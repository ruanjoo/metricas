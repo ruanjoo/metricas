{
 "cells": [
  {
   "cell_type": "code",
   "execution_count": 2,
   "id": "792a2d3e",
   "metadata": {},
   "outputs": [],
   "source": [
    "import numpy as np\n",
    "import pandas as pd"
   ]
  },
  {
   "cell_type": "code",
   "execution_count": null,
   "id": "da26278a",
   "metadata": {},
   "outputs": [],
   "source": [
    "# Matriz de confusão normalizada\n",
    "conf_matrix_norm = np.array([\n",
    "    [1.00, 0.00, 0.00, 0.00, 0.00, 0.00, 0.00, 0.00, 0.00, 0.00],  # Classe 0\n",
    "    [0.00, 0.99, 0.00, 0.00, 0.00, 0.00, 0.00, 0.00, 0.00, 0.00],   # Classe 1\n",
    "    [0.00, 0.00, 0.98, 0.01, 0.00, 0.00, 0.00, 0.01, 0.00, 0.00],   # Classe 2\n",
    "    [0.00, 0.00, 0.00, 1.00, 0.00, 0.00, 0.00, 0.00, 0.00, 0.00],   # Classe 3\n",
    "    [0.00, 0.00, 0.00, 0.00, 0.99, 0.00, 0.00, 0.00, 0.00, 0.01],   # Classe 4\n",
    "    [0.00, 0.00, 0.00, 0.02, 0.00, 0.98, 0.00, 0.00, 0.00, 0.00],   # Classe 5\n",
    "    [0.01, 0.00, 0.00, 0.00, 0.00, 0.00, 0.99, 0.00, 0.00, 0.00],   # Classe 6\n",
    "    [0.00, 0.00, 0.00, 0.00, 0.00, 0.00, 0.00, 1.00, 0.00, 0.00],   # Classe 7\n",
    "    [0.00, 0.00, 0.00, 0.01, 0.00, 0.00, 0.00, 0.00, 0.99, 0.00],   # Classe 8\n",
    "    [0.00, 0.00, 0.00, 0.00, 0.00, 0.00, 0.00, 0.01, 0.00, 0.98]    # Classe 9\n",
    "])\n",
    "\n",
    "# Converter para matriz de contagem absoluta\n",
    "conf_matrix = (conf_matrix_norm * 100).astype(int)"
   ]
  },
  {
   "cell_type": "code",
   "execution_count": 4,
   "id": "f3412832",
   "metadata": {},
   "outputs": [],
   "source": [
    "# Função para calcular todas as métricas\n",
    "def calcular_metricas(matriz_confusao):\n",
    "    metricas = []\n",
    "    num_classes = matriz_confusao.shape[0]\n",
    "    \n",
    "    for i in range(num_classes):\n",
    "        VP = matriz_confusao[i,i]\n",
    "        FN = np.sum(matriz_confusao[i,:]) - VP\n",
    "        FP = np.sum(matriz_confusao[:,i]) - VP\n",
    "        VN = np.sum(matriz_confusao) - (VP + FP + FN)\n",
    "        \n",
    "        # Cálculo das métricas\n",
    "        acuracia = (VP + VN) / (VP + FP + FN + VN)\n",
    "        sensibilidade = VP / (VP + FN) if (VP + FN) > 0 else 0\n",
    "        especificidade = VN / (VN + FP) if (VN + FP) > 0 else 0\n",
    "        precisao = VP / (VP + FP) if (VP + FP) > 0 else 0\n",
    "        f1_score = 2 * (precisao * sensibilidade) / (precisao + sensibilidade) if (precisao + sensibilidade) > 0 else 0\n",
    "        \n",
    "        metricas.append({\n",
    "            'Classe': i,\n",
    "            'VP': VP,\n",
    "            'FN': FN,\n",
    "            'FP': FP,\n",
    "            'VN': VN,\n",
    "            'Acurácia': acuracia,\n",
    "            'Sensibilidade (Recall)': sensibilidade,\n",
    "            'Especificidade': especificidade,\n",
    "            'Precisão': precisao,\n",
    "            'F1-Score': f1_score\n",
    "        })\n",
    "    \n",
    "    return metricas\n"
   ]
  },
  {
   "cell_type": "code",
   "execution_count": 5,
   "id": "38306133",
   "metadata": {},
   "outputs": [],
   "source": [
    "# Calcular métricas para todas as classes\n",
    "metricas_classes = calcular_metricas(conf_matrix)\n",
    "\n",
    "# Criar DataFrame para exibição\n",
    "df_metricas = pd.DataFrame(metricas_classes)\n",
    "\n",
    "# Calcular médias\n",
    "medias = {\n",
    "    'Métrica': ['Média'],\n",
    "    'Acurácia': [df_metricas['Acurácia'].mean()],\n",
    "    'Sensibilidade (Recall)': [df_metricas['Sensibilidade (Recall)'].mean()],\n",
    "    'Especificidade': [df_metricas['Especificidade'].mean()],\n",
    "    'Precisão': [df_metricas['Precisão'].mean()],\n",
    "    'F1-Score': [df_metricas['F1-Score'].mean()]\n",
    "}"
   ]
  },
  {
   "cell_type": "code",
   "execution_count": 6,
   "id": "cb2709c1",
   "metadata": {},
   "outputs": [
    {
     "name": "stdout",
     "output_type": "stream",
     "text": [
      "Matriz de Confusão (valores absolutos):\n",
      "[[100   0   0   0   0   0   0   0   0   0]\n",
      " [  0  99   0   0   0   0   0   0   0   0]\n",
      " [  0   0  98   1   0   0   0   1   0   0]\n",
      " [  0   0   0 100   0   0   0   0   0   0]\n",
      " [  0   0   0   0  99   0   0   0   0   1]\n",
      " [  0   0   0   2   0  98   0   0   0   0]\n",
      " [  1   0   0   0   0   0  99   0   0   0]\n",
      " [  0   0   0   0   0   0   0 100   0   0]\n",
      " [  0   0   0   1   0   0   0   0  99   0]\n",
      " [  0   0   0   0   0   0   0   1   0  98]]\n",
      "\n",
      "Métricas por Classe:\n",
      " Classe  VP  FN  FP  VN  Acurácia  Sensibilidade (Recall)  Especificidade  Precisão  F1-Score\n",
      "      0 100   0   1 897  0.998998                1.000000        0.998886  0.990099  0.995025\n",
      "      1  99   0   0 899  1.000000                1.000000        1.000000  1.000000  1.000000\n",
      "      2  98   2   0 898  0.997996                0.980000        1.000000  1.000000  0.989899\n",
      "      3 100   0   4 894  0.995992                1.000000        0.995546  0.961538  0.980392\n",
      "      4  99   1   0 898  0.998998                0.990000        1.000000  1.000000  0.994975\n",
      "      5  98   2   0 898  0.997996                0.980000        1.000000  1.000000  0.989899\n",
      "      6  99   1   0 898  0.998998                0.990000        1.000000  1.000000  0.994975\n",
      "      7 100   0   2 896  0.997996                1.000000        0.997773  0.980392  0.990099\n",
      "      8  99   1   0 898  0.998998                0.990000        1.000000  1.000000  0.994975\n",
      "      9  98   1   1 898  0.997996                0.989899        0.998888  0.989899  0.989899\n",
      "\n",
      "Médias Gerais:\n",
      "Métrica  Acurácia  Sensibilidade (Recall)  Especificidade  Precisão  F1-Score\n",
      "  Média  0.998397                 0.99199        0.999109  0.992193  0.992014\n"
     ]
    }
   ],
   "source": [
    "# Exibir resultados\n",
    "print(\"Matriz de Confusão (valores absolutos):\")\n",
    "print(conf_matrix)\n",
    "print(\"\\nMétricas por Classe:\")\n",
    "print(df_metricas.to_string(index=False))\n",
    "print(\"\\nMédias Gerais:\")\n",
    "print(pd.DataFrame(medias).to_string(index=False))"
   ]
  }
 ],
 "metadata": {
  "kernelspec": {
   "display_name": "Python 3",
   "language": "python",
   "name": "python3"
  },
  "language_info": {
   "codemirror_mode": {
    "name": "ipython",
    "version": 3
   },
   "file_extension": ".py",
   "mimetype": "text/x-python",
   "name": "python",
   "nbconvert_exporter": "python",
   "pygments_lexer": "ipython3",
   "version": "3.10.0"
  }
 },
 "nbformat": 4,
 "nbformat_minor": 5
}
